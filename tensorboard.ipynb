{
 "cells": [
  {
   "cell_type": "code",
   "execution_count": 1,
   "id": "01c29c67-4a69-4ff3-9715-e8182af3c091",
   "metadata": {},
   "outputs": [],
   "source": [
    "# Importing the relevant packages\n",
    "import tensorflow as tf\n",
    "import tensorflow_datasets as tfds\n",
    "from tensorboard.plugins.hparams import api as hp"
   ]
  },
  {
   "cell_type": "markdown",
   "id": "7a187675-ef4b-44cb-8276-4e3da12b32b6",
   "metadata": {},
   "source": [
    "Downloading and preprocessing the data"
   ]
  },
  {
   "cell_type": "code",
   "execution_count": 3,
   "id": "ecf3f8d1-1cd6-4fac-96c8-d7741b1be6db",
   "metadata": {},
   "outputs": [],
   "source": [
    "# Defining some constants/hyperparameters\n",
    "BUFFER_SIZE = 70_000 # for reshuffling\n",
    "BATCH_SIZE = 128\n",
    "NUM_EPOCHS = 20"
   ]
  },
  {
   "cell_type": "code",
   "execution_count": 5,
   "id": "139b48ca-4bc9-44ce-a56e-0ee348c59c7d",
   "metadata": {},
   "outputs": [],
   "source": [
    "# Downloading the MNIST dataset\n",
    "mnist_dataset, mnist_info = tfds.load(name='mnist', with_info=True, as_supervised=True)"
   ]
  },
  {
   "cell_type": "code",
   "execution_count": 7,
   "id": "0c825cc1-2719-41df-b5ed-00b54e0952be",
   "metadata": {},
   "outputs": [],
   "source": [
    "mnist_train, mnist_test = mnist_dataset['train'], mnist_dataset['test']"
   ]
  },
  {
   "cell_type": "code",
   "execution_count": 9,
   "id": "6900e438-1094-4b36-a948-9d580794dfad",
   "metadata": {},
   "outputs": [],
   "source": [
    "# Creating a function to scale our data\n",
    "def scale(image, label):\n",
    "    image = tf.cast(image, tf.float32)\n",
    "    image /= 255.\n",
    "\n",
    "    return image, label"
   ]
  },
  {
   "cell_type": "code",
   "execution_count": 11,
   "id": "be27cb73-5526-42a5-98d8-1d6c6ecad329",
   "metadata": {},
   "outputs": [],
   "source": [
    "# Scaling the data\n",
    "train_and_validation_data = mnist_train.map(scale)\n",
    "test_data = mnist_test.map(scale)"
   ]
  },
  {
   "cell_type": "code",
   "execution_count": 13,
   "id": "c28391f3-0410-456e-8ea0-a3564709624a",
   "metadata": {},
   "outputs": [],
   "source": [
    "# Defining the size of validation set\n",
    "num_validation_samples = 0.1 * mnist_info.splits['train'].num_examples\n",
    "num_validation_samples = tf.cast(num_validation_samples, tf.int64)"
   ]
  },
  {
   "cell_type": "code",
   "execution_count": 15,
   "id": "6bcf77af-aa34-4992-a958-1839f365f19a",
   "metadata": {},
   "outputs": [],
   "source": [
    "# Defining size of test set\n",
    "num_test_samples = mnist_info.splits['test'].num_examples\n",
    "num_test_samples = tf.cast(num_test_samples, tf.int64)"
   ]
  },
  {
   "cell_type": "code",
   "execution_count": 17,
   "id": "fc3598e8-d57b-4ed8-9fc3-55eb0cfab312",
   "metadata": {},
   "outputs": [],
   "source": [
    "# Reshuffling the dataset\n",
    "train_and_validation_data = train_and_validation_data.shuffle(BUFFER_SIZE)"
   ]
  },
  {
   "cell_type": "code",
   "execution_count": 19,
   "id": "ceffa17e-2b03-413e-a003-dc45e3f21180",
   "metadata": {},
   "outputs": [],
   "source": [
    "# Splitting the dataset into training + validation\n",
    "train_data = train_and_validation_data.skip(num_validation_samples)\n",
    "validation_data = train_and_validation_data.take(num_validation_samples)"
   ]
  },
  {
   "cell_type": "code",
   "execution_count": 21,
   "id": "b4841528-49a3-4eed-bacb-6f822381fa5d",
   "metadata": {},
   "outputs": [],
   "source": [
    "# Batching the data\n",
    "train_data = train_data.batch(BATCH_SIZE)\n",
    "validation_data = validation_data.batch(num_validation_samples)\n",
    "test_data = test_data.batch(num_test_samples)"
   ]
  },
  {
   "cell_type": "markdown",
   "id": "c767e09c-1466-4cda-b3ad-42b238383db6",
   "metadata": {},
   "source": [
    "Defining hyperparameters"
   ]
  },
  {
   "cell_type": "code",
   "execution_count": 24,
   "id": "1ed29bc4-c64a-4d26-ae52-dbe4838c06b6",
   "metadata": {},
   "outputs": [],
   "source": [
    "# Defining the hypermatarest we would test and their range\n",
    "HP_FILTER_SIZE = hp.HParam('filter_size', hp.Discrete([3,5,7]))\n",
    "HP_OPTIMIZER = hp.HParam('optimizer', hp.Discrete(['adam', 'sgd']))\n",
    "\n",
    "METRIC_ACCURACY = 'accuracy'\n",
    "\n",
    "# Logging setup info\n",
    "with tf.summary.create_file_writer('logs/hparam_tuning').as_default():\n",
    "    hp.hparams_config(\n",
    "        hparams=[HP_FILTER_SIZE, HP_OPTIMIZER],\n",
    "        metrics=[hp.Metric(METRIC_ACCURACY, display_name='Accuracy')],\n",
    "    )"
   ]
  },
  {
   "cell_type": "markdown",
   "id": "975bfdc6-838d-4677-b1ee-894b98ce396e",
   "metadata": {},
   "source": [
    "Creating functions for training our model and for logging purposes"
   ]
  },
  {
   "cell_type": "code",
   "execution_count": 27,
   "id": "0c7ebb39-fadf-4bf3-a39b-eb9f51b2c2f0",
   "metadata": {},
   "outputs": [],
   "source": [
    "# Wrapping our model and training in a function\n",
    "def train_test_model(hparams):\n",
    "    \n",
    "    # Outlining the model/architecture of our CNN\n",
    "    model = tf.keras.Sequential([\n",
    "        tf.keras.layers.Conv2D(50, hparams[HP_FILTER_SIZE], activation='relu', input_shape=(28, 28, 1)),\n",
    "        tf.keras.layers.MaxPooling2D(pool_size=(2,2)),\n",
    "        tf.keras.layers.Conv2D(50, hparams[HP_FILTER_SIZE], activation='relu'),\n",
    "        tf.keras.layers.MaxPooling2D(pool_size=(2,2)), \n",
    "        tf.keras.layers.Flatten(),\n",
    "        tf.keras.layers.Dense(10)\n",
    "    ])\n",
    "    \n",
    "    # Defining the loss function\n",
    "    loss_fn = tf.keras.losses.SparseCategoricalCrossentropy(from_logits=True)\n",
    "\n",
    "    # Compiling the model with parameter value for the optimizer\n",
    "    model.compile(optimizer=hparams[HP_OPTIMIZER], loss=loss_fn, metrics=['accuracy'])\n",
    "    \n",
    "    # Defining early stopping to prevent overfitting\n",
    "    early_stopping = tf.keras.callbacks.EarlyStopping(\n",
    "        monitor = 'val_loss',\n",
    "        mode = 'auto',\n",
    "        min_delta = 0,\n",
    "        patience = 2,\n",
    "        verbose = 0, \n",
    "        restore_best_weights = True\n",
    "    )\n",
    "    \n",
    "    # Training the model\n",
    "    model.fit(\n",
    "        train_data, \n",
    "        epochs = NUM_EPOCHS,\n",
    "        callbacks = [early_stopping],\n",
    "        validation_data = validation_data,\n",
    "        verbose = 2\n",
    "    )\n",
    "    \n",
    "    _, accuracy = model.evaluate(test_data)\n",
    "    \n",
    "    return accuracy"
   ]
  },
  {
   "cell_type": "code",
   "execution_count": 29,
   "id": "70d7961a-18a6-414c-acb8-19f6181e7c66",
   "metadata": {},
   "outputs": [],
   "source": [
    "# Creating a function to log the resuls\n",
    "def run(log_dir, hparams):\n",
    "    \n",
    "    with tf.summary.create_file_writer(log_dir).as_default():\n",
    "        hp.hparams(hparams)  # record the values used in this trial\n",
    "        accuracy = train_test_model(hparams)\n",
    "        tf.summary.scalar(METRIC_ACCURACY, accuracy, step=1)"
   ]
  },
  {
   "cell_type": "markdown",
   "id": "28a5c6c7-8fcc-4a82-95e1-1f503807c1f4",
   "metadata": {},
   "source": [
    "Training the model with the different hyperparameters"
   ]
  },
  {
   "cell_type": "code",
   "execution_count": 32,
   "id": "9217a9a5-7fa1-40a7-a0c3-e1d2583a9234",
   "metadata": {},
   "outputs": [
    {
     "name": "stdout",
     "output_type": "stream",
     "text": [
      "--- Starting trial: run-0\n",
      "{'filter_size': 3, 'optimizer': 'adam'}\n",
      "Epoch 1/20\n"
     ]
    },
    {
     "name": "stderr",
     "output_type": "stream",
     "text": [
      "C:\\Users\\ilyas\\anaconda3\\Lib\\site-packages\\keras\\src\\layers\\convolutional\\base_conv.py:107: UserWarning: Do not pass an `input_shape`/`input_dim` argument to a layer. When using Sequential models, prefer using an `Input(shape)` object as the first layer in the model instead.\n",
      "  super().__init__(activity_regularizer=activity_regularizer, **kwargs)\n"
     ]
    },
    {
     "name": "stdout",
     "output_type": "stream",
     "text": [
      "422/422 - 11s - 26ms/step - accuracy: 0.9179 - loss: 0.2938 - val_accuracy: 0.9728 - val_loss: 0.0893\n",
      "Epoch 2/20\n",
      "422/422 - 11s - 25ms/step - accuracy: 0.9779 - loss: 0.0731 - val_accuracy: 0.9805 - val_loss: 0.0596\n",
      "Epoch 3/20\n",
      "422/422 - 11s - 25ms/step - accuracy: 0.9835 - loss: 0.0541 - val_accuracy: 0.9890 - val_loss: 0.0374\n",
      "Epoch 4/20\n",
      "422/422 - 10s - 24ms/step - accuracy: 0.9865 - loss: 0.0441 - val_accuracy: 0.9882 - val_loss: 0.0401\n",
      "Epoch 5/20\n",
      "422/422 - 11s - 25ms/step - accuracy: 0.9881 - loss: 0.0378 - val_accuracy: 0.9915 - val_loss: 0.0282\n",
      "Epoch 6/20\n",
      "422/422 - 10s - 25ms/step - accuracy: 0.9901 - loss: 0.0323 - val_accuracy: 0.9938 - val_loss: 0.0243\n",
      "Epoch 7/20\n",
      "422/422 - 10s - 24ms/step - accuracy: 0.9911 - loss: 0.0283 - val_accuracy: 0.9933 - val_loss: 0.0225\n",
      "Epoch 8/20\n",
      "422/422 - 11s - 25ms/step - accuracy: 0.9922 - loss: 0.0252 - val_accuracy: 0.9920 - val_loss: 0.0241\n",
      "Epoch 9/20\n",
      "422/422 - 10s - 24ms/step - accuracy: 0.9931 - loss: 0.0219 - val_accuracy: 0.9955 - val_loss: 0.0146\n",
      "Epoch 10/20\n",
      "422/422 - 10s - 24ms/step - accuracy: 0.9941 - loss: 0.0187 - val_accuracy: 0.9968 - val_loss: 0.0107\n",
      "Epoch 11/20\n",
      "422/422 - 10s - 24ms/step - accuracy: 0.9944 - loss: 0.0170 - val_accuracy: 0.9950 - val_loss: 0.0158\n",
      "Epoch 12/20\n",
      "422/422 - 10s - 23ms/step - accuracy: 0.9947 - loss: 0.0166 - val_accuracy: 0.9967 - val_loss: 0.0115\n",
      "\u001b[1m1/1\u001b[0m \u001b[32m━━━━━━━━━━━━━━━━━━━━\u001b[0m\u001b[37m\u001b[0m \u001b[1m1s\u001b[0m 758ms/step - accuracy: 0.9909 - loss: 0.0308\n",
      "--- Starting trial: run-1\n",
      "{'filter_size': 3, 'optimizer': 'sgd'}\n",
      "Epoch 1/20\n",
      "422/422 - 10s - 23ms/step - accuracy: 0.5769 - loss: 1.5158 - val_accuracy: 0.8450 - val_loss: 0.5462\n",
      "Epoch 2/20\n",
      "422/422 - 10s - 24ms/step - accuracy: 0.8801 - loss: 0.4163 - val_accuracy: 0.9027 - val_loss: 0.3259\n",
      "Epoch 3/20\n",
      "422/422 - 10s - 23ms/step - accuracy: 0.9102 - loss: 0.3071 - val_accuracy: 0.9255 - val_loss: 0.2638\n",
      "Epoch 4/20\n",
      "422/422 - 11s - 25ms/step - accuracy: 0.9274 - loss: 0.2483 - val_accuracy: 0.9322 - val_loss: 0.2360\n",
      "Epoch 5/20\n",
      "422/422 - 10s - 25ms/step - accuracy: 0.9383 - loss: 0.2098 - val_accuracy: 0.9415 - val_loss: 0.1940\n",
      "Epoch 6/20\n",
      "422/422 - 10s - 25ms/step - accuracy: 0.9479 - loss: 0.1807 - val_accuracy: 0.9595 - val_loss: 0.1550\n",
      "Epoch 7/20\n",
      "422/422 - 10s - 25ms/step - accuracy: 0.9534 - loss: 0.1588 - val_accuracy: 0.9593 - val_loss: 0.1392\n",
      "Epoch 8/20\n",
      "422/422 - 11s - 26ms/step - accuracy: 0.9587 - loss: 0.1424 - val_accuracy: 0.9595 - val_loss: 0.1411\n",
      "Epoch 9/20\n",
      "422/422 - 10s - 24ms/step - accuracy: 0.9624 - loss: 0.1304 - val_accuracy: 0.9647 - val_loss: 0.1226\n",
      "Epoch 10/20\n",
      "422/422 - 10s - 24ms/step - accuracy: 0.9645 - loss: 0.1216 - val_accuracy: 0.9632 - val_loss: 0.1204\n",
      "Epoch 11/20\n",
      "422/422 - 10s - 24ms/step - accuracy: 0.9663 - loss: 0.1138 - val_accuracy: 0.9685 - val_loss: 0.1123\n",
      "Epoch 12/20\n",
      "422/422 - 10s - 23ms/step - accuracy: 0.9682 - loss: 0.1060 - val_accuracy: 0.9685 - val_loss: 0.1034\n",
      "Epoch 13/20\n",
      "422/422 - 9s - 22ms/step - accuracy: 0.9698 - loss: 0.1007 - val_accuracy: 0.9723 - val_loss: 0.0955\n",
      "Epoch 14/20\n",
      "422/422 - 9s - 22ms/step - accuracy: 0.9712 - loss: 0.0980 - val_accuracy: 0.9727 - val_loss: 0.0924\n",
      "Epoch 15/20\n",
      "422/422 - 9s - 21ms/step - accuracy: 0.9719 - loss: 0.0943 - val_accuracy: 0.9707 - val_loss: 0.0925\n",
      "Epoch 16/20\n",
      "422/422 - 9s - 21ms/step - accuracy: 0.9728 - loss: 0.0896 - val_accuracy: 0.9718 - val_loss: 0.0912\n",
      "Epoch 17/20\n",
      "422/422 - 9s - 21ms/step - accuracy: 0.9740 - loss: 0.0863 - val_accuracy: 0.9707 - val_loss: 0.0953\n",
      "Epoch 18/20\n",
      "422/422 - 9s - 22ms/step - accuracy: 0.9747 - loss: 0.0846 - val_accuracy: 0.9745 - val_loss: 0.0833\n",
      "Epoch 19/20\n",
      "422/422 - 9s - 21ms/step - accuracy: 0.9755 - loss: 0.0812 - val_accuracy: 0.9760 - val_loss: 0.0792\n",
      "Epoch 20/20\n",
      "422/422 - 9s - 22ms/step - accuracy: 0.9757 - loss: 0.0790 - val_accuracy: 0.9735 - val_loss: 0.0832\n",
      "\u001b[1m1/1\u001b[0m \u001b[32m━━━━━━━━━━━━━━━━━━━━\u001b[0m\u001b[37m\u001b[0m \u001b[1m1s\u001b[0m 612ms/step - accuracy: 0.9763 - loss: 0.0735\n",
      "--- Starting trial: run-2\n",
      "{'filter_size': 5, 'optimizer': 'adam'}\n",
      "Epoch 1/20\n",
      "422/422 - 12s - 28ms/step - accuracy: 0.9298 - loss: 0.2449 - val_accuracy: 0.9747 - val_loss: 0.0862\n",
      "Epoch 2/20\n",
      "422/422 - 12s - 27ms/step - accuracy: 0.9810 - loss: 0.0652 - val_accuracy: 0.9868 - val_loss: 0.0426\n",
      "Epoch 3/20\n",
      "422/422 - 12s - 27ms/step - accuracy: 0.9852 - loss: 0.0474 - val_accuracy: 0.9913 - val_loss: 0.0292\n",
      "Epoch 4/20\n",
      "422/422 - 11s - 27ms/step - accuracy: 0.9884 - loss: 0.0367 - val_accuracy: 0.9903 - val_loss: 0.0299\n",
      "Epoch 5/20\n",
      "422/422 - 11s - 27ms/step - accuracy: 0.9907 - loss: 0.0298 - val_accuracy: 0.9940 - val_loss: 0.0210\n",
      "Epoch 6/20\n",
      "422/422 - 11s - 27ms/step - accuracy: 0.9912 - loss: 0.0266 - val_accuracy: 0.9930 - val_loss: 0.0218\n",
      "Epoch 7/20\n",
      "422/422 - 11s - 26ms/step - accuracy: 0.9932 - loss: 0.0213 - val_accuracy: 0.9958 - val_loss: 0.0146\n",
      "Epoch 8/20\n",
      "422/422 - 11s - 26ms/step - accuracy: 0.9942 - loss: 0.0190 - val_accuracy: 0.9963 - val_loss: 0.0117\n",
      "Epoch 9/20\n",
      "422/422 - 12s - 27ms/step - accuracy: 0.9943 - loss: 0.0177 - val_accuracy: 0.9963 - val_loss: 0.0171\n",
      "Epoch 10/20\n",
      "422/422 - 11s - 27ms/step - accuracy: 0.9959 - loss: 0.0136 - val_accuracy: 0.9985 - val_loss: 0.0070\n",
      "Epoch 11/20\n",
      "422/422 - 10s - 24ms/step - accuracy: 0.9964 - loss: 0.0115 - val_accuracy: 0.9967 - val_loss: 0.0085\n",
      "Epoch 12/20\n",
      "422/422 - 10s - 25ms/step - accuracy: 0.9967 - loss: 0.0100 - val_accuracy: 0.9975 - val_loss: 0.0079\n",
      "\u001b[1m1/1\u001b[0m \u001b[32m━━━━━━━━━━━━━━━━━━━━\u001b[0m\u001b[37m\u001b[0m \u001b[1m1s\u001b[0m 649ms/step - accuracy: 0.9914 - loss: 0.0273\n",
      "--- Starting trial: run-3\n",
      "{'filter_size': 5, 'optimizer': 'sgd'}\n",
      "Epoch 1/20\n",
      "422/422 - 11s - 27ms/step - accuracy: 0.7152 - loss: 1.1761 - val_accuracy: 0.8878 - val_loss: 0.3851\n",
      "Epoch 2/20\n",
      "422/422 - 11s - 26ms/step - accuracy: 0.9097 - loss: 0.3108 - val_accuracy: 0.9273 - val_loss: 0.2487\n",
      "Epoch 3/20\n",
      "422/422 - 11s - 26ms/step - accuracy: 0.9341 - loss: 0.2273 - val_accuracy: 0.9382 - val_loss: 0.2137\n",
      "Epoch 4/20\n",
      "422/422 - 11s - 26ms/step - accuracy: 0.9472 - loss: 0.1825 - val_accuracy: 0.9463 - val_loss: 0.1860\n",
      "Epoch 5/20\n",
      "422/422 - 11s - 26ms/step - accuracy: 0.9556 - loss: 0.1540 - val_accuracy: 0.9595 - val_loss: 0.1373\n",
      "Epoch 6/20\n",
      "422/422 - 11s - 25ms/step - accuracy: 0.9610 - loss: 0.1354 - val_accuracy: 0.9595 - val_loss: 0.1355\n",
      "Epoch 7/20\n",
      "422/422 - 11s - 26ms/step - accuracy: 0.9652 - loss: 0.1225 - val_accuracy: 0.9697 - val_loss: 0.1105\n",
      "Epoch 8/20\n",
      "422/422 - 11s - 26ms/step - accuracy: 0.9682 - loss: 0.1114 - val_accuracy: 0.9727 - val_loss: 0.0940\n",
      "Epoch 9/20\n",
      "422/422 - 9s - 22ms/step - accuracy: 0.9701 - loss: 0.1033 - val_accuracy: 0.9727 - val_loss: 0.0962\n",
      "Epoch 10/20\n",
      "422/422 - 11s - 26ms/step - accuracy: 0.9717 - loss: 0.0970 - val_accuracy: 0.9680 - val_loss: 0.1102\n",
      "\u001b[1m1/1\u001b[0m \u001b[32m━━━━━━━━━━━━━━━━━━━━\u001b[0m\u001b[37m\u001b[0m \u001b[1m1s\u001b[0m 650ms/step - accuracy: 0.9734 - loss: 0.0957\n",
      "--- Starting trial: run-4\n",
      "{'filter_size': 7, 'optimizer': 'adam'}\n",
      "Epoch 1/20\n",
      "422/422 - 11s - 26ms/step - accuracy: 0.9284 - loss: 0.2531 - val_accuracy: 0.9770 - val_loss: 0.0756\n",
      "Epoch 2/20\n",
      "422/422 - 10s - 24ms/step - accuracy: 0.9777 - loss: 0.0745 - val_accuracy: 0.9835 - val_loss: 0.0543\n",
      "Epoch 3/20\n",
      "422/422 - 10s - 25ms/step - accuracy: 0.9843 - loss: 0.0532 - val_accuracy: 0.9883 - val_loss: 0.0395\n",
      "Epoch 4/20\n",
      "422/422 - 11s - 26ms/step - accuracy: 0.9877 - loss: 0.0408 - val_accuracy: 0.9910 - val_loss: 0.0298\n",
      "Epoch 5/20\n",
      "422/422 - 10s - 25ms/step - accuracy: 0.9902 - loss: 0.0337 - val_accuracy: 0.9938 - val_loss: 0.0240\n",
      "Epoch 6/20\n",
      "422/422 - 10s - 25ms/step - accuracy: 0.9909 - loss: 0.0285 - val_accuracy: 0.9925 - val_loss: 0.0239\n",
      "Epoch 7/20\n",
      "422/422 - 10s - 25ms/step - accuracy: 0.9924 - loss: 0.0248 - val_accuracy: 0.9950 - val_loss: 0.0174\n",
      "Epoch 8/20\n",
      "422/422 - 10s - 24ms/step - accuracy: 0.9935 - loss: 0.0204 - val_accuracy: 0.9928 - val_loss: 0.0173\n",
      "Epoch 9/20\n",
      "422/422 - 10s - 25ms/step - accuracy: 0.9949 - loss: 0.0164 - val_accuracy: 0.9950 - val_loss: 0.0156\n",
      "Epoch 10/20\n",
      "422/422 - 10s - 24ms/step - accuracy: 0.9953 - loss: 0.0151 - val_accuracy: 0.9957 - val_loss: 0.0142\n",
      "Epoch 11/20\n",
      "422/422 - 9s - 22ms/step - accuracy: 0.9956 - loss: 0.0134 - val_accuracy: 0.9953 - val_loss: 0.0143\n",
      "Epoch 12/20\n",
      "422/422 - 10s - 23ms/step - accuracy: 0.9966 - loss: 0.0113 - val_accuracy: 0.9948 - val_loss: 0.0146\n",
      "\u001b[1m1/1\u001b[0m \u001b[32m━━━━━━━━━━━━━━━━━━━━\u001b[0m\u001b[37m\u001b[0m \u001b[1m1s\u001b[0m 543ms/step - accuracy: 0.9896 - loss: 0.0328\n",
      "--- Starting trial: run-5\n",
      "{'filter_size': 7, 'optimizer': 'sgd'}\n",
      "Epoch 1/20\n",
      "422/422 - 11s - 25ms/step - accuracy: 0.7500 - loss: 1.0154 - val_accuracy: 0.8893 - val_loss: 0.3990\n",
      "Epoch 2/20\n",
      "422/422 - 10s - 24ms/step - accuracy: 0.9056 - loss: 0.3295 - val_accuracy: 0.9125 - val_loss: 0.2966\n",
      "Epoch 3/20\n",
      "422/422 - 10s - 25ms/step - accuracy: 0.9256 - loss: 0.2545 - val_accuracy: 0.9333 - val_loss: 0.2259\n",
      "Epoch 4/20\n",
      "422/422 - 10s - 23ms/step - accuracy: 0.9386 - loss: 0.2117 - val_accuracy: 0.9433 - val_loss: 0.1919\n",
      "Epoch 5/20\n",
      "422/422 - 10s - 24ms/step - accuracy: 0.9473 - loss: 0.1805 - val_accuracy: 0.9458 - val_loss: 0.1770\n",
      "Epoch 6/20\n",
      "422/422 - 10s - 24ms/step - accuracy: 0.9525 - loss: 0.1613 - val_accuracy: 0.9578 - val_loss: 0.1479\n",
      "Epoch 7/20\n",
      "422/422 - 10s - 24ms/step - accuracy: 0.9580 - loss: 0.1443 - val_accuracy: 0.9627 - val_loss: 0.1287\n",
      "Epoch 8/20\n",
      "422/422 - 11s - 26ms/step - accuracy: 0.9619 - loss: 0.1310 - val_accuracy: 0.9630 - val_loss: 0.1298\n",
      "Epoch 9/20\n",
      "422/422 - 11s - 25ms/step - accuracy: 0.9646 - loss: 0.1213 - val_accuracy: 0.9658 - val_loss: 0.1179\n",
      "Epoch 10/20\n",
      "422/422 - 10s - 24ms/step - accuracy: 0.9675 - loss: 0.1116 - val_accuracy: 0.9680 - val_loss: 0.1101\n",
      "Epoch 11/20\n",
      "422/422 - 10s - 25ms/step - accuracy: 0.9694 - loss: 0.1046 - val_accuracy: 0.9705 - val_loss: 0.1010\n",
      "Epoch 12/20\n",
      "422/422 - 10s - 24ms/step - accuracy: 0.9713 - loss: 0.0974 - val_accuracy: 0.9725 - val_loss: 0.0944\n",
      "Epoch 13/20\n",
      "422/422 - 10s - 24ms/step - accuracy: 0.9724 - loss: 0.0940 - val_accuracy: 0.9717 - val_loss: 0.0973\n",
      "Epoch 14/20\n",
      "422/422 - 10s - 25ms/step - accuracy: 0.9739 - loss: 0.0893 - val_accuracy: 0.9710 - val_loss: 0.0915\n",
      "Epoch 15/20\n",
      "422/422 - 10s - 24ms/step - accuracy: 0.9746 - loss: 0.0866 - val_accuracy: 0.9767 - val_loss: 0.0833\n",
      "Epoch 16/20\n",
      "422/422 - 10s - 24ms/step - accuracy: 0.9765 - loss: 0.0807 - val_accuracy: 0.9758 - val_loss: 0.0789\n",
      "Epoch 17/20\n",
      "422/422 - 10s - 25ms/step - accuracy: 0.9766 - loss: 0.0797 - val_accuracy: 0.9765 - val_loss: 0.0797\n",
      "Epoch 18/20\n",
      "422/422 - 10s - 24ms/step - accuracy: 0.9774 - loss: 0.0760 - val_accuracy: 0.9792 - val_loss: 0.0714\n",
      "Epoch 19/20\n",
      "422/422 - 11s - 25ms/step - accuracy: 0.9785 - loss: 0.0728 - val_accuracy: 0.9772 - val_loss: 0.0770\n",
      "Epoch 20/20\n",
      "422/422 - 11s - 26ms/step - accuracy: 0.9792 - loss: 0.0703 - val_accuracy: 0.9780 - val_loss: 0.0698\n",
      "\u001b[1m1/1\u001b[0m \u001b[32m━━━━━━━━━━━━━━━━━━━━\u001b[0m\u001b[37m\u001b[0m \u001b[1m1s\u001b[0m 628ms/step - accuracy: 0.9795 - loss: 0.0685\n"
     ]
    }
   ],
   "source": [
    "# Performing a grid search on the hyperparameters we need to test\n",
    "session_num = 0\n",
    "\n",
    "for filter_size in HP_FILTER_SIZE.domain.values:\n",
    "    for optimizer in HP_OPTIMIZER.domain.values:\n",
    "    \n",
    "        hparams = {\n",
    "            HP_FILTER_SIZE: filter_size,\n",
    "            HP_OPTIMIZER: optimizer\n",
    "        }\n",
    "        run_name = \"run-%d\" % session_num\n",
    "        print('--- Starting trial: %s' % run_name)\n",
    "        print({h.name: hparams[h] for h in hparams})\n",
    "        run('logs/hparam_tuning/' + run_name, hparams)\n",
    "\n",
    "        session_num += 1"
   ]
  },
  {
   "cell_type": "markdown",
   "id": "758f1170-18e8-4fbc-b0ce-164033309e85",
   "metadata": {},
   "source": [
    "Visualizing the hyperparameter results with Tensorboard"
   ]
  },
  {
   "cell_type": "code",
   "execution_count": 35,
   "id": "08d5c580-c435-4267-a125-f487332dd3cf",
   "metadata": {},
   "outputs": [
    {
     "data": {
      "text/html": [
       "\n",
       "      <iframe id=\"tensorboard-frame-29702314d6ea2844\" width=\"100%\" height=\"800\" frameborder=\"0\">\n",
       "      </iframe>\n",
       "      <script>\n",
       "        (function() {\n",
       "          const frame = document.getElementById(\"tensorboard-frame-29702314d6ea2844\");\n",
       "          const url = new URL(\"/\", window.location);\n",
       "          const port = 6006;\n",
       "          if (port) {\n",
       "            url.port = port;\n",
       "          }\n",
       "          frame.src = url;\n",
       "        })();\n",
       "      </script>\n",
       "    "
      ],
      "text/plain": [
       "<IPython.core.display.HTML object>"
      ]
     },
     "metadata": {},
     "output_type": "display_data"
    }
   ],
   "source": [
    "# Loading the Tensorboard extension\n",
    "%load_ext tensorboard\n",
    "%tensorboard --logdir \"logs/hparam_tuning\""
   ]
  },
  {
   "cell_type": "code",
   "execution_count": null,
   "id": "f9b0597d-d185-4817-83c4-d509677b09ea",
   "metadata": {},
   "outputs": [],
   "source": []
  }
 ],
 "metadata": {
  "kernelspec": {
   "display_name": "Python 3 (ipykernel)",
   "language": "python",
   "name": "python3"
  },
  "language_info": {
   "codemirror_mode": {
    "name": "ipython",
    "version": 3
   },
   "file_extension": ".py",
   "mimetype": "text/x-python",
   "name": "python",
   "nbconvert_exporter": "python",
   "pygments_lexer": "ipython3",
   "version": "3.12.4"
  }
 },
 "nbformat": 4,
 "nbformat_minor": 5
}
